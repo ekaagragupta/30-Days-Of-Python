{
  "nbformat": 4,
  "nbformat_minor": 0,
  "metadata": {
    "colab": {
      "provenance": [],
      "authorship_tag": "ABX9TyORNxjJZNEjF3lspUCAeZ7F",
      "include_colab_link": true
    },
    "kernelspec": {
      "name": "python3",
      "display_name": "Python 3"
    },
    "language_info": {
      "name": "python"
    }
  },
  "cells": [
    {
      "cell_type": "markdown",
      "metadata": {
        "id": "view-in-github",
        "colab_type": "text"
      },
      "source": [
        "<a href=\"https://colab.research.google.com/github/ekaagragupta/30-Days-Of-Python/blob/master/sample.ipynb\" target=\"_parent\"><img src=\"https://colab.research.google.com/assets/colab-badge.svg\" alt=\"Open In Colab\"/></a>"
      ]
    },
    {
      "cell_type": "code",
      "execution_count": null,
      "metadata": {
        "id": "KrHlDYXOrVXb"
      },
      "outputs": [],
      "source": [
        "import numpy as np\n",
        "import pandas as pd\n",
        "from sklearn.model_selection import train_test_split\n",
        "from sklearn.preprocessing import StandardScaler, OneHotEncoder\n",
        "from sklearn.pipeline import Pipeline\n",
        "from sklearn.compose import ColumnTransformer\n",
        "from sklearn.ensemble import RandomForestClassifier\n",
        "from sklearn.metrics import accuracy_score"
      ]
    },
    {
      "cell_type": "code",
      "source": [
        "# Load dataset\n",
        "df = pd.read_csv(\"https://raw.githubusercontent.com/datasciencedojo/datasets/master/titanic.csv\")\n",
        "\n",
        "# Select relevant features\n",
        "features = ['Pclass', 'Sex', 'Age', 'SibSp', 'Parch', 'Fare', 'Embarked']\n",
        "df = df[features + ['Survived']].dropna()  # Drop rows with missing values\n",
        "\n",
        "# Display the first few rows\n",
        "print(df.head())"
      ],
      "metadata": {
        "colab": {
          "base_uri": "https://localhost:8080/"
        },
        "id": "nmlRJNDn5urH",
        "outputId": "29070ac9-ac2d-4f82-b345-f0d1caa046a1"
      },
      "execution_count": null,
      "outputs": [
        {
          "output_type": "stream",
          "name": "stdout",
          "text": [
            "   Pclass     Sex   Age  SibSp  Parch     Fare Embarked  Survived\n",
            "0       3    male  22.0      1      0   7.2500        S         0\n",
            "1       1  female  38.0      1      0  71.2833        C         1\n",
            "2       3  female  26.0      0      0   7.9250        S         1\n",
            "3       1  female  35.0      1      0  53.1000        S         1\n",
            "4       3    male  35.0      0      0   8.0500        S         0\n"
          ]
        }
      ]
    },
    {
      "cell_type": "code",
      "source": [
        "num_features = ['Age', 'SibSp', 'Parch', 'Fare']\n",
        "cat_features = ['Pclass', 'Sex', 'Embarked']\n",
        "\n",
        "num_transformer=StandardScaler()\n",
        "cat_transformer=OneHotEncoder(handle_unknown='ignore')\n",
        "#combine transformer into preprocessor\n",
        "preprocessor=ColumnTransformer(\n",
        "    transformers=[\n",
        "        ('num',num_transformer,num_features),\n",
        "        ('cat',cat_transformer,cat_features)\n",
        "    ]\n",
        ")\n",
        "print(df.head())"
      ],
      "metadata": {
        "colab": {
          "base_uri": "https://localhost:8080/"
        },
        "collapsed": true,
        "id": "7YrruIhq7vn6",
        "outputId": "a174a9f1-adb9-4b47-e4ff-faba6b7859ab"
      },
      "execution_count": null,
      "outputs": [
        {
          "output_type": "stream",
          "name": "stdout",
          "text": [
            "   Pclass     Sex   Age  SibSp  Parch     Fare Embarked  Survived\n",
            "0       3    male  22.0      1      0   7.2500        S         0\n",
            "1       1  female  38.0      1      0  71.2833        C         1\n",
            "2       3  female  26.0      0      0   7.9250        S         1\n",
            "3       1  female  35.0      1      0  53.1000        S         1\n",
            "4       3    male  35.0      0      0   8.0500        S         0\n"
          ]
        }
      ]
    },
    {
      "cell_type": "code",
      "source": [
        "# Define target and features\n",
        "X = df[features]\n",
        "y = df['Survived']\n",
        "\n",
        "# Split into training and testing sets\n",
        "X_train, X_test, y_train, y_test = train_test_split(X, y, test_size=0.2, random_state=42)\n",
        "\n",
        "# Display the shape of the data\n",
        "print(f\"Training set shape: {X_train.shape}\")\n",
        "print(f\"Testing set shape: {X_test.shape}\")\n"
      ],
      "metadata": {
        "colab": {
          "base_uri": "https://localhost:8080/"
        },
        "id": "Lwv3CRIu7vks",
        "outputId": "5c2fa24e-903d-4fe9-8dfe-6f5155257f76"
      },
      "execution_count": null,
      "outputs": [
        {
          "output_type": "stream",
          "name": "stdout",
          "text": [
            "Training set shape: (569, 7)\n",
            "Testing set shape: (143, 7)\n"
          ]
        }
      ]
    },
    {
      "cell_type": "code",
      "source": [
        "pipeline=Pipeline([\n",
        "    #data transformation\n",
        "    ('preprocessor',preprocessor),\n",
        "    #ML model\n",
        "    ('classifier',RandomForestClassifier(n_estimators=100,random_state=42))\n",
        "])\n",
        "\n",
        "# Train the model\n",
        "pipeline.fit(X_train, y_train)\n",
        "print(\"Model training complete!\")"
      ],
      "metadata": {
        "id": "gwYJReyO7viH",
        "colab": {
          "base_uri": "https://localhost:8080/"
        },
        "outputId": "c19943e5-88a6-4c5b-8190-78c4c464326f"
      },
      "execution_count": null,
      "outputs": [
        {
          "output_type": "stream",
          "name": "stdout",
          "text": [
            "Model training complete!\n"
          ]
        }
      ]
    },
    {
      "cell_type": "code",
      "source": [
        "# Make predictions\n",
        "y_pred = pipeline.predict(X_test)\n",
        "\n",
        "# Compute accuracy\n",
        "accuracy = accuracy_score(y_test, y_pred)\n",
        "print(f\"Model Accuracy: {accuracy:.2f}\")\n",
        "\n"
      ],
      "metadata": {
        "colab": {
          "base_uri": "https://localhost:8080/"
        },
        "id": "VeotYBwTX-FA",
        "outputId": "cecdd447-ba69-4065-867a-5fd863057690"
      },
      "execution_count": null,
      "outputs": [
        {
          "output_type": "stream",
          "name": "stdout",
          "text": [
            "Model Accuracy: 0.76\n"
          ]
        }
      ]
    },
    {
      "cell_type": "code",
      "source": [
        "import joblib\n",
        "\n",
        "# Save the trained pipeline\n",
        "joblib.dump(pipeline, 'ml_pipeline.pkl')\n",
        "\n",
        "# Load the model\n",
        "loaded_pipeline = joblib.load('ml_pipeline.pkl')\n",
        "\n",
        "# Predict using the loaded model\n",
        "sample_data = pd.DataFrame([{'Pclass': 3, 'Sex': 'male', 'Age': 25, 'SibSp': 0, 'Parch': 0, 'Fare': 7.5, 'Embarked': 'S'}])\n",
        "prediction = loaded_pipeline.predict(sample_data)\n",
        "print(f\"Prediction: {'Survived' if prediction[0] == 1 else 'Did not Survive'}\")"
      ],
      "metadata": {
        "colab": {
          "base_uri": "https://localhost:8080/"
        },
        "id": "ByBGWbHiYLzR",
        "outputId": "9e66ec24-61f7-4fa9-9a4d-b0754b73dbed"
      },
      "execution_count": null,
      "outputs": [
        {
          "output_type": "stream",
          "name": "stdout",
          "text": [
            "Prediction: Did not Survive\n"
          ]
        }
      ]
    }
  ]
}